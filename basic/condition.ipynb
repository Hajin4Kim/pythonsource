{
 "cells": [
  {
   "cell_type": "markdown",
   "metadata": {},
   "source": [
    "조건문\n",
    "\n",
    "{} 을 사용하지 않고 tab 처리"
   ]
  },
  {
   "cell_type": "code",
   "execution_count": 2,
   "metadata": {},
   "outputs": [
    {
     "name": "stdout",
     "output_type": "stream",
     "text": [
      "True\n"
     ]
    }
   ],
   "source": [
    "if True:\n",
    "    print(\"True\")\n"
   ]
  },
  {
   "cell_type": "code",
   "execution_count": 7,
   "metadata": {},
   "outputs": [
    {
     "name": "stdout",
     "output_type": "stream",
     "text": [
      "a 는 100과 200 사이에 있다\n"
     ]
    }
   ],
   "source": [
    "# a = 200\n",
    "# a 는 100과 200 사이에 있다\n",
    "a = 200\n",
    "if a >= 100 and a <= 200:\n",
    "    print(\"a 는 100과 200 사이에 있다\")"
   ]
  },
  {
   "cell_type": "code",
   "execution_count": 8,
   "metadata": {},
   "outputs": [
    {
     "name": "stdout",
     "output_type": "stream",
     "text": [
      "a 는 100과 200 사이에 있다\n"
     ]
    }
   ],
   "source": [
    "if 100 <= a <= 200:\n",
    "    print(\"a 는 100과 200 사이에 있다\")"
   ]
  },
  {
   "cell_type": "code",
   "execution_count": 9,
   "metadata": {},
   "outputs": [
    {
     "name": "stdout",
     "output_type": "stream",
     "text": [
      "18\n"
     ]
    }
   ],
   "source": [
    "# 세 개의 숫자 중 가장 큰 수를 출력\n",
    "a, b, c = 12, 6, 18\n",
    "\n",
    "max = a\n",
    "if max < b:\n",
    "    max = b\n",
    "if max < c:\n",
    "    max = c\n",
    "print(max)"
   ]
  },
  {
   "cell_type": "code",
   "execution_count": 10,
   "metadata": {},
   "outputs": [
    {
     "name": "stdout",
     "output_type": "stream",
     "text": [
      "a는 100 보다 작다\n"
     ]
    }
   ],
   "source": [
    "a = 55\n",
    "if a < 100:\n",
    "    print(\"a는 100 보다 작다\")\n",
    "else:\n",
    "    print(\"a는 100 보다 크다\")"
   ]
  },
  {
   "cell_type": "code",
   "execution_count": 11,
   "metadata": {},
   "outputs": [
    {
     "name": "stdout",
     "output_type": "stream",
     "text": [
      "홀수\n"
     ]
    }
   ],
   "source": [
    "# 숫자 입력 받은 후 짝수, 홀수인지 출력\n",
    "num = int(input(\"숫자입력 : \"))\n",
    "if num % 2 == 0:\n",
    "    print(\"짝수\")\n",
    "else:\n",
    "    print(\"홀수\")"
   ]
  },
  {
   "cell_type": "code",
   "execution_count": 14,
   "metadata": {},
   "outputs": [
    {
     "name": "stdout",
     "output_type": "stream",
     "text": [
      "2024-12-22 21:23:41.040791\n",
      "2024년 12월 22시 21분 23초\n",
      "오후\n"
     ]
    }
   ],
   "source": [
    "# 지금 현재 시간 갖고와, 오전/ 오후 인지 출력\n",
    "import datetime\n",
    "\n",
    "now = datetime.datetime.now()\n",
    "\n",
    "print(now)\n",
    "print(\"{}년 {}월 {}시 {}분 {}초\".format(now.year, now.month, now.day, now.hour, now.minute, now.second))\n",
    "\n",
    "if now.hour < 12:\n",
    "    print(\"오전\")\n",
    "else:\n",
    "    print(\"오후\")"
   ]
  },
  {
   "cell_type": "code",
   "execution_count": 15,
   "metadata": {},
   "outputs": [
    {
     "data": {
      "text/plain": [
       "'오후'"
      ]
     },
     "execution_count": 15,
     "metadata": {},
     "output_type": "execute_result"
    }
   ],
   "source": [
    "# 조건? 참 : 거짓 (삼항연산자 - java, js)\n",
    "# python: 참 if 조건 else 거짓\n",
    "msg = \"오전\" if now.hour < 12 else \"오후\"\n",
    "msg"
   ]
  },
  {
   "cell_type": "code",
   "execution_count": 16,
   "metadata": {},
   "outputs": [
    {
     "name": "stdout",
     "output_type": "stream",
     "text": [
      "B 등급\n"
     ]
    }
   ],
   "source": [
    "# if ~ else if ~ else (java, js)\n",
    "# if ~ elif ~ else (python)\n",
    "\n",
    "num = 85\n",
    "if num >= 90:\n",
    "    print(\"A 등급\")\n",
    "elif num >= 80:\n",
    "    print(\"B 등급\")\n",
    "elif num >= 70:\n",
    "    print(\"C 등급\")\n",
    "elif num >= 60:\n",
    "    print(\"D 등급\")\n",
    "else:\n",
    "    print(\"F 등급\")"
   ]
  },
  {
   "cell_type": "code",
   "execution_count": 21,
   "metadata": {},
   "outputs": [
    {
     "name": "stdout",
     "output_type": "stream",
     "text": [
      "A 등급\n"
     ]
    }
   ],
   "source": [
    "# 점수 입력 받은 후, 점수에 맞는 등급 출력\n",
    "num = int(input(\"점수 입력 : \"))\n",
    "if num >= 90:\n",
    "    print(\"A 등급\")\n",
    "elif num >= 80:\n",
    "    print(\"B 등급\")\n",
    "elif num >= 70:\n",
    "    print(\"C 등급\")\n",
    "elif num >= 60:\n",
    "    print(\"D 등급\")\n",
    "else:\n",
    "    print(\"F 등급\")"
   ]
  },
  {
   "cell_type": "code",
   "execution_count": 24,
   "metadata": {},
   "outputs": [
    {
     "name": "stdout",
     "output_type": "stream",
     "text": [
      "25 // 4 = 6\n"
     ]
    }
   ],
   "source": [
    "# 숫자 2개 입력 받고, 연산자(+, -, *, /, //, **) 입력받기\n",
    "\n",
    "num1 = int(input(\"첫번째 수 : \"))\n",
    "num2 = int(input(\"두번째 수 : \"))\n",
    "op = input(\"연산자 입력 : \")\n",
    "\n",
    "if op == \"+\":\n",
    "    result = num1 + num2\n",
    "elif op == \"-\":\n",
    "    result = num1 - num2\n",
    "elif op == \"*\":\n",
    "    result = num1 * num2\n",
    "elif op == \"/\":\n",
    "    result = num1 / num2\n",
    "elif op == \"//\":\n",
    "    result = num1 // num2\n",
    "else:\n",
    "    result = num1 ** num2\n",
    "    \n",
    "print(\"{} {} {} = {}\".format(num1, op, num2, result))"
   ]
  },
  {
   "cell_type": "code",
   "execution_count": null,
   "metadata": {},
   "outputs": [],
   "source": []
  }
 ],
 "metadata": {
  "kernelspec": {
   "display_name": "venv",
   "language": "python",
   "name": "python3"
  },
  "language_info": {
   "codemirror_mode": {
    "name": "ipython",
    "version": 3
   },
   "file_extension": ".py",
   "mimetype": "text/x-python",
   "name": "python",
   "nbconvert_exporter": "python",
   "pygments_lexer": "ipython3",
   "version": "3.11.2"
  }
 },
 "nbformat": 4,
 "nbformat_minor": 2
}
