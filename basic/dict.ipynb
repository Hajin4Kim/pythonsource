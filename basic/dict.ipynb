{
 "cells": [
  {
   "cell_type": "markdown",
   "metadata": {},
   "source": [
    "### 딕셔너리 자료형\n",
    "- 자바의 map 과 같은 개념\n",
    "- key, value\n",
    "- {} 사용"
   ]
  },
  {
   "cell_type": "code",
   "execution_count": 3,
   "metadata": {},
   "outputs": [
    {
     "name": "stdout",
     "output_type": "stream",
     "text": [
      "{}\n",
      "{}\n",
      "{'name': 'Hong', 'age': 20}\n",
      "{0: 'hello python', 1: 'hello coding'}\n",
      "{'arr': [1, 2, 3, 4]}\n",
      "{'items': (1, 2, 3, 4)}\n"
     ]
    }
   ],
   "source": [
    "# 생성\n",
    "dict1 = {}\n",
    "dict2 = dict()\n",
    "dict3 = {\"name\":\"Hong\", \"age\":20}\n",
    "dict4 = {0: \"hello python\", 1:\"hello coding\"}\n",
    "dict5 = {\"arr\":[1,2,3,4]}\n",
    "dict6 = {\"items\":(1,2,3,4)}\n",
    "\n",
    "print(dict1)\n",
    "print(dict2)\n",
    "print(dict3)\n",
    "print(dict4)\n",
    "print(dict5)\n",
    "print(dict6)"
   ]
  },
  {
   "cell_type": "code",
   "execution_count": 7,
   "metadata": {},
   "outputs": [
    {
     "name": "stdout",
     "output_type": "stream",
     "text": [
      "Hong\n",
      "Hong\n",
      "None\n"
     ]
    }
   ],
   "source": [
    "# 조회\n",
    "\n",
    "print(dict3[\"name\"])\n",
    "# print(dict3[\"addr\"]) # KeyError: 'addr'\n",
    "print(dict3.get(\"name\"))\n",
    "print(dict3.get(\"addr\")) # None"
   ]
  },
  {
   "cell_type": "code",
   "execution_count": 8,
   "metadata": {},
   "outputs": [
    {
     "data": {
      "text/plain": [
       "{'name': 'Hong', 'age': 20, 'birth': '20201225'}"
      ]
     },
     "execution_count": 8,
     "metadata": {},
     "output_type": "execute_result"
    }
   ],
   "source": [
    "# 추가 (key & value)\n",
    "dict3['birth']= \"20201225\"\n",
    "dict3"
   ]
  },
  {
   "cell_type": "code",
   "execution_count": 9,
   "metadata": {},
   "outputs": [
    {
     "data": {
      "text/plain": [
       "{0: 'hello python', 1: 'hello coding', 2: [1, 2, 3]}"
      ]
     },
     "execution_count": 9,
     "metadata": {},
     "output_type": "execute_result"
    }
   ],
   "source": [
    "dict4[2] = [1,2,3]\n",
    "dict4"
   ]
  },
  {
   "cell_type": "code",
   "execution_count": 10,
   "metadata": {},
   "outputs": [
    {
     "data": {
      "text/plain": [
       "{1: 'hello coding', 2: [1, 2, 3]}"
      ]
     },
     "execution_count": 10,
     "metadata": {},
     "output_type": "execute_result"
    }
   ],
   "source": [
    "# 삭제\n",
    "del dict4[0]\n",
    "dict4"
   ]
  },
  {
   "cell_type": "code",
   "execution_count": 11,
   "metadata": {},
   "outputs": [
    {
     "name": "stdout",
     "output_type": "stream",
     "text": [
      "dict_keys(['name', 'age', 'birth'])\n",
      "dict_keys([1, 2])\n",
      "dict_values(['hello coding', [1, 2, 3]])\n",
      "dict_items([(1, 'hello coding'), (2, [1, 2, 3])])\n"
     ]
    }
   ],
   "source": [
    "# keys(): dict의 key 값 가져오기 , values(), items()\n",
    "print(dict3.keys())\n",
    "print(dict4.keys())\n",
    "print(dict4.values())\n",
    "print(dict4.items())"
   ]
  },
  {
   "cell_type": "markdown",
   "metadata": {},
   "source": []
  },
  {
   "cell_type": "code",
   "execution_count": 12,
   "metadata": {},
   "outputs": [
    {
     "name": "stdout",
     "output_type": "stream",
     "text": [
      "arr\n",
      "[1, 2, 3, 4]\n",
      "arr [1, 2, 3, 4]\n"
     ]
    }
   ],
   "source": [
    "for k in dict5.keys():\n",
    "    print(k)\n",
    "\n",
    "for v in dict5.values():\n",
    "    print(v)\n",
    "\n",
    "for k,v in dict5.items():\n",
    "    print(k,v)"
   ]
  },
  {
   "cell_type": "code",
   "execution_count": 13,
   "metadata": {},
   "outputs": [
    {
     "name": "stdout",
     "output_type": "stream",
     "text": [
      "True\n",
      "True\n"
     ]
    }
   ],
   "source": [
    "# in\n",
    "\n",
    "print(\"name\" in dict3)\n",
    "print(\"addr\" not in dict3)"
   ]
  },
  {
   "cell_type": "code",
   "execution_count": 15,
   "metadata": {},
   "outputs": [
    {
     "data": {
      "text/plain": [
       "{1: 3, 2: 4, 6: 1, 8: 3, 4: 3, 3: 3, 9: 2, 5: 2, 7: 2}"
      ]
     },
     "execution_count": 15,
     "metadata": {},
     "output_type": "execute_result"
    }
   ],
   "source": [
    "numbers = [1,2,6,8,4,3,2,1,9,5,4,8,7,2,1,3,5,4,8,9,7,2,3]\n",
    "counters = {}\n",
    "\n",
    "# list 안에 동일한 숫자가 몇 번 반복되었는지 dict 구조로 반환\n",
    "# {1:3, 2:4, 6:1}\n",
    "\n",
    "for num in numbers:\n",
    "    counters[num] = numbers.count(num)\n",
    "\n",
    "counters\n"
   ]
  },
  {
   "cell_type": "code",
   "execution_count": 17,
   "metadata": {},
   "outputs": [
    {
     "name": "stdout",
     "output_type": "stream",
     "text": [
      "사과\n",
      "사과가 포함됨\n"
     ]
    }
   ],
   "source": [
    "fruits = {\"봄\": \"딸기\", \"여름\":\"수박\",\"가을\":\"사과\", \"겨울\":\"귤\"}\n",
    "\n",
    "# 가을 에 해당하는 과일 출력\n",
    "print(fruits.get(\"가을\"))\n",
    "# #사과가 포함되었다면 \"사과가 포함됨\"\n",
    "# for k,v in fruits.items():\n",
    "#     if v == \"사과\":\n",
    "#         print(\"사과가 포함됨\")\n",
    "#         break\n",
    "#     else:\n",
    "#         print(\"사과가 포함 X\")\n",
    "\n",
    "if \"사과\" in fruits.values():\n",
    "    print(\"사과가 포함됨\")\n",
    "else:\n",
    "    print(\"사과가 포함 X\")\n"
   ]
  },
  {
   "cell_type": "code",
   "execution_count": 18,
   "metadata": {},
   "outputs": [
    {
     "name": "stdout",
     "output_type": "stream",
     "text": [
      "80\n",
      "{'A': 90, 'C': 70}\n"
     ]
    }
   ],
   "source": [
    "# \"dict1 생성\"\n",
    "dict1 = {\"A\":90,\"B\":80,\"C\":70}\n",
    "\n",
    "# dict1 에서 B키에 해당하는 값 출력\n",
    "print(dict1.get(\"B\"))\n",
    "# dict1 에서 B키 삭제 후 dict1 출력\n",
    "del dict1[\"B\"]\n",
    "print(dict1)\n"
   ]
  },
  {
   "cell_type": "code",
   "execution_count": 19,
   "metadata": {},
   "outputs": [
    {
     "name": "stdout",
     "output_type": "stream",
     "text": [
      "dict_keys(['성인', '청소년', '아동', '소아'])\n",
      "dict_values([15000, 7000, 3000, 0])\n"
     ]
    }
   ],
   "source": [
    "# dict2 생성\n",
    "dict2 = {\"성인\":15000, \"청소년\":7000, \"아동\":3000}\n",
    "\n",
    "# dict2에 \"소아\" : 0 추가\n",
    "dict2[\"소아\"] = 0\n",
    "# dict2 의 모든 키 값 출력\n",
    "print(dict2.keys())\n",
    "#  dict2의 모든 value 값 출력\n",
    "print(dict2.values())"
   ]
  },
  {
   "cell_type": "code",
   "execution_count": null,
   "metadata": {},
   "outputs": [],
   "source": []
  }
 ],
 "metadata": {
  "kernelspec": {
   "display_name": "venv",
   "language": "python",
   "name": "python3"
  },
  "language_info": {
   "codemirror_mode": {
    "name": "ipython",
    "version": 3
   },
   "file_extension": ".py",
   "mimetype": "text/x-python",
   "name": "python",
   "nbconvert_exporter": "python",
   "pygments_lexer": "ipython3",
   "version": "3.11.2"
  }
 },
 "nbformat": 4,
 "nbformat_minor": 2
}
