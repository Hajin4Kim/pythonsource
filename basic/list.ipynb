{
 "cells": [
  {
   "cell_type": "markdown",
   "metadata": {},
   "source": [
    "### 리스트 자료형\n",
    "- 자바, 자바스크립트의 배열과 같은 개념\n",
    "- 비어있는 리스트 생성 : [] or list()\n",
    "- 데이터는 다양하게 담을 수 있음"
   ]
  },
  {
   "cell_type": "code",
   "execution_count": 1,
   "metadata": {},
   "outputs": [],
   "source": [
    "list1 = []\n",
    "list2 = list()\n",
    "list3 = [1,2,3,4]\n",
    "list4 = list(range(10))\n",
    "list5 = [1,2,['Life', 'is', 'short']] # 2차원 배열"
   ]
  },
  {
   "cell_type": "code",
   "execution_count": 2,
   "metadata": {},
   "outputs": [
    {
     "name": "stdout",
     "output_type": "stream",
     "text": [
      "[]\n",
      "[]\n",
      "[1, 2, 3, 4]\n",
      "[0, 1, 2, 3, 4, 5, 6, 7, 8, 9]\n",
      "[1, 2, ['Life', 'is', 'short']]\n"
     ]
    }
   ],
   "source": [
    "print(list1)\n",
    "print(list2)\n",
    "print(list3)\n",
    "print(list4)\n",
    "print(list5)"
   ]
  },
  {
   "cell_type": "code",
   "execution_count": 7,
   "metadata": {},
   "outputs": [
    {
     "name": "stdout",
     "output_type": "stream",
     "text": [
      "3\n",
      "4\n",
      "['Life', 'is', 'short']\n",
      "short\n",
      "short\n"
     ]
    }
   ],
   "source": [
    "print(list3[2])\n",
    "print(list3[-1])\n",
    "print(list5[-1])\n",
    "print(list5[-1][2]) # 2차원 배열\n",
    "print(list5[2][2]) # 2차원 배열"
   ]
  },
  {
   "cell_type": "code",
   "execution_count": 8,
   "metadata": {},
   "outputs": [
    {
     "name": "stdout",
     "output_type": "stream",
     "text": [
      "is\n",
      "is\n"
     ]
    }
   ],
   "source": [
    "# 3차원 배열\n",
    "list6 = [1,2,['a','b',['Life','is']]]\n",
    "\n",
    "print(list6[2][2][1])\n",
    "print(list6[-1][-1][1])"
   ]
  },
  {
   "cell_type": "code",
   "execution_count": 9,
   "metadata": {},
   "outputs": [
    {
     "name": "stdout",
     "output_type": "stream",
     "text": [
      "[1, 2, ['Life', 'is', 'short']]\n",
      "[['Life', 'is', 'short']]\n",
      "['Life', 'is']\n"
     ]
    }
   ],
   "source": [
    "print(list5)\n",
    "print(list5[2:])\n",
    "print(list5[2][:2])"
   ]
  },
  {
   "cell_type": "code",
   "execution_count": 14,
   "metadata": {},
   "outputs": [
    {
     "name": "stdout",
     "output_type": "stream",
     "text": [
      "[1, 2, 3, 4, 5, 6]\n",
      "[1, 2, 3, 'a', 'b', 'c']\n",
      "[1, 2, 3, 1, 2, 3, 1, 2, 3]\n",
      "3\n"
     ]
    }
   ],
   "source": [
    "# 연산자 : +(연결), *(반복)\n",
    "\n",
    "a = [1,2,3]\n",
    "b = [4,5,6]\n",
    "c = ['a','b','c']\n",
    "\n",
    "print(a+b)\n",
    "print(a+c)\n",
    "\n",
    "print(a*3)\n",
    "print(a[0]*3)"
   ]
  },
  {
   "cell_type": "code",
   "execution_count": 22,
   "metadata": {},
   "outputs": [
    {
     "name": "stdout",
     "output_type": "stream",
     "text": [
      "[0, 13, 10, 11, 4, 5, 6, 7, 8, 9]\n",
      "[0, 13, 10, 11, 4, 5, 6, 7, 8, 9]\n",
      "[0, 13, 10, 11, 4, [20, 21, 22], 6, 7, 8, 9]\n"
     ]
    }
   ],
   "source": [
    "# 리스트 특정 요소 수정\n",
    "list4[1] = 13\n",
    "print(list4)\n",
    "\n",
    "# 연속된 범위의 값 수정\n",
    "list4[2:4] = [10,11]\n",
    "print(list4)\n",
    "\n",
    "list4[5] = [20,21, 22]\n",
    "print(list4)"
   ]
  },
  {
   "cell_type": "code",
   "execution_count": 23,
   "metadata": {},
   "outputs": [
    {
     "name": "stdout",
     "output_type": "stream",
     "text": [
      "[0, 13, 10, 11, 4, [20, 21, 22], 6, 7, 9]\n"
     ]
    }
   ],
   "source": [
    "# 리스트 요소 삭제 del\n",
    "del list4[8]\n",
    "print(list4)"
   ]
  },
  {
   "cell_type": "code",
   "execution_count": 26,
   "metadata": {},
   "outputs": [
    {
     "ename": "NameError",
     "evalue": "name 'list3' is not defined",
     "output_type": "error",
     "traceback": [
      "\u001b[1;31m---------------------------------------------------------------------------\u001b[0m",
      "\u001b[1;31mNameError\u001b[0m                                 Traceback (most recent call last)",
      "Cell \u001b[1;32mIn[26], line 2\u001b[0m\n\u001b[0;32m      1\u001b[0m \u001b[38;5;66;03m# del 객체: 객체 제거\u001b[39;00m\n\u001b[1;32m----> 2\u001b[0m \u001b[38;5;28;01mdel\u001b[39;00m \u001b[43mlist3\u001b[49m\n",
      "\u001b[1;31mNameError\u001b[0m: name 'list3' is not defined"
     ]
    }
   ],
   "source": [
    "# del 객체: 객체 제거\n",
    "del list3"
   ]
  },
  {
   "cell_type": "code",
   "execution_count": 25,
   "metadata": {},
   "outputs": [
    {
     "ename": "NameError",
     "evalue": "name 'list3' is not defined",
     "output_type": "error",
     "traceback": [
      "\u001b[1;31m---------------------------------------------------------------------------\u001b[0m",
      "\u001b[1;31mNameError\u001b[0m                                 Traceback (most recent call last)",
      "Cell \u001b[1;32mIn[25], line 1\u001b[0m\n\u001b[1;32m----> 1\u001b[0m \u001b[43mlist3\u001b[49m\n",
      "\u001b[1;31mNameError\u001b[0m: name 'list3' is not defined"
     ]
    }
   ],
   "source": [
    "list3 # NameError: name 'list3' is not defined"
   ]
  },
  {
   "cell_type": "code",
   "execution_count": 28,
   "metadata": {},
   "outputs": [
    {
     "name": "stdout",
     "output_type": "stream",
     "text": [
      "[1, 2, 3, 4, 4]\n",
      "[1, 2, 3, 4, 4, [5, 6, 7]]\n"
     ]
    }
   ],
   "source": [
    "# 리스트 함수\n",
    "# 요소 추가 : append()\n",
    "\n",
    "a.append(4)\n",
    "print(a)\n",
    "\n",
    "a.append([5,6,7])\n",
    "print(a)"
   ]
  },
  {
   "cell_type": "code",
   "execution_count": 29,
   "metadata": {},
   "outputs": [],
   "source": [
    "# 리스트 정렬 : sort()\n",
    "a = [1,4,3,2]\n",
    "a.sort() # 원본에 바로 sort 적용"
   ]
  },
  {
   "cell_type": "code",
   "execution_count": 30,
   "metadata": {},
   "outputs": [
    {
     "data": {
      "text/plain": [
       "[1, 2, 3, 4]"
      ]
     },
     "execution_count": 30,
     "metadata": {},
     "output_type": "execute_result"
    }
   ],
   "source": [
    "a"
   ]
  },
  {
   "cell_type": "code",
   "execution_count": 31,
   "metadata": {},
   "outputs": [
    {
     "name": "stdout",
     "output_type": "stream",
     "text": [
      "['a', 'b', 'c']\n"
     ]
    }
   ],
   "source": [
    "b = ['a','c','b']\n",
    "b.sort()\n",
    "print(b)"
   ]
  },
  {
   "cell_type": "code",
   "execution_count": 32,
   "metadata": {},
   "outputs": [
    {
     "name": "stdout",
     "output_type": "stream",
     "text": [
      "['ㄱ', 'ㄷ', 'ㅂ', 'ㅎ']\n"
     ]
    }
   ],
   "source": [
    "c = [\"ㄷ\", \"ㄱ\", \"ㅎ\", \"ㅂ\"]\n",
    "c.sort()\n",
    "print(c)"
   ]
  },
  {
   "cell_type": "code",
   "execution_count": 33,
   "metadata": {},
   "outputs": [
    {
     "name": "stdout",
     "output_type": "stream",
     "text": [
      "[0, 13, 10, 11, 4, [20, 21, 22], 6, 7, 9]\n"
     ]
    },
    {
     "data": {
      "text/plain": [
       "[9, 7, 6, [20, 21, 22], 4, 11, 10, 13, 0]"
      ]
     },
     "execution_count": 33,
     "metadata": {},
     "output_type": "execute_result"
    }
   ],
   "source": [
    "# 리스트 뒤집기 - reverse()\n",
    "print(list4)\n",
    "list4.reverse()\n",
    "list4"
   ]
  },
  {
   "cell_type": "code",
   "execution_count": null,
   "metadata": {},
   "outputs": [],
   "source": []
  }
 ],
 "metadata": {
  "kernelspec": {
   "display_name": "Python 3",
   "language": "python",
   "name": "python3"
  },
  "language_info": {
   "codemirror_mode": {
    "name": "ipython",
    "version": 3
   },
   "file_extension": ".py",
   "mimetype": "text/x-python",
   "name": "python",
   "nbconvert_exporter": "python",
   "pygments_lexer": "ipython3",
   "version": "3.13.1"
  }
 },
 "nbformat": 4,
 "nbformat_minor": 2
}
