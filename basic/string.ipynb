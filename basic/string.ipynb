{
 "cells": [
  {
   "cell_type": "code",
   "execution_count": 108,
   "metadata": {},
   "outputs": [
    {
     "name": "stdout",
     "output_type": "stream",
     "text": [
      "python is fun\n"
     ]
    }
   ],
   "source": [
    "# + : 결합\n",
    "str1 = \"python \" + \"is fun\"\n",
    "print(str1)"
   ]
  },
  {
   "cell_type": "code",
   "execution_count": 109,
   "metadata": {},
   "outputs": [
    {
     "name": "stdout",
     "output_type": "stream",
     "text": [
      "파이썬파이썬파이썬\n"
     ]
    }
   ],
   "source": [
    "# * : 복제의 의미\n",
    "print(\"파이썬\"*3)"
   ]
  },
  {
   "cell_type": "code",
   "execution_count": 110,
   "metadata": {},
   "outputs": [
    {
     "name": "stdout",
     "output_type": "stream",
     "text": [
      "**************************************************\n",
      "프로그램\n",
      "**************************************************\n"
     ]
    }
   ],
   "source": [
    "print(\"*\"*50)\n",
    "print(\"프로그램\")\n",
    "print(\"*\"*50)"
   ]
  },
  {
   "cell_type": "code",
   "execution_count": 111,
   "metadata": {},
   "outputs": [
    {
     "data": {
      "text/plain": [
       "34"
      ]
     },
     "execution_count": 111,
     "metadata": {},
     "output_type": "execute_result"
    }
   ],
   "source": [
    "# len() : 문자열 길이 측정 함수\n",
    "a = \"Life is too short, You need Python\"\n",
    "len(a)"
   ]
  },
  {
   "cell_type": "code",
   "execution_count": 112,
   "metadata": {},
   "outputs": [
    {
     "data": {
      "text/plain": [
       "'o'"
      ]
     },
     "execution_count": 112,
     "metadata": {},
     "output_type": "execute_result"
    }
   ],
   "source": [
    "# 문자열 인덱싱 : 자바에서는 charAt(0)\n",
    "# 시작은 0 (왼쪽부터), 마지막 -1(오른쪽)\n",
    "\n",
    "a[3]\n",
    "a[-2]"
   ]
  },
  {
   "cell_type": "code",
   "execution_count": 113,
   "metadata": {},
   "outputs": [
    {
     "name": "stdout",
     "output_type": "stream",
     "text": [
      "Life\n",
      " is \n",
      "Life is \n",
      "too short, You need Python\n",
      "Life is too short, You need Pyt\n"
     ]
    }
   ],
   "source": [
    "# 슬라이싱 [start:end] : end는 포함 안함\n",
    "\n",
    "print(a[0:4])\n",
    "print(a[4:8])\n",
    "print(a[:8])\n",
    "print(a[8:])\n",
    "print(a[0:-3])"
   ]
  },
  {
   "cell_type": "code",
   "execution_count": 114,
   "metadata": {},
   "outputs": [
    {
     "name": "stdout",
     "output_type": "stream",
     "text": [
      "20241223, Sunny\n"
     ]
    }
   ],
   "source": [
    "str1 = \"20241223Sunny\"\n",
    "\n",
    "# date, weather\n",
    "\n",
    "date = str1[0:8]\n",
    "weather = str1[8:]\n",
    "print(f\"{date}, {weather}\")"
   ]
  },
  {
   "cell_type": "code",
   "execution_count": 115,
   "metadata": {},
   "outputs": [
    {
     "name": "stdout",
     "output_type": "stream",
     "text": [
      "2024-12-23\n"
     ]
    }
   ],
   "source": [
    "# date 를 year, month, day -를 넣어 출력\n",
    "year = date[:4]\n",
    "month = date[4:6]\n",
    "day = date[6:]\n",
    "print(year, month, day, sep=\"-\")"
   ]
  },
  {
   "cell_type": "code",
   "execution_count": 116,
   "metadata": {},
   "outputs": [
    {
     "name": "stdout",
     "output_type": "stream",
     "text": [
      "남자입니다\n"
     ]
    }
   ],
   "source": [
    "str2 = \"001205-3234567\"\n",
    "\n",
    "# 주민 번호에서 남자 : 1, 3 시작 / 여자 : 2, 4 시작\n",
    "isGen = str2[7]\n",
    "if (isGen == \"1\" or isGen == \"3\"):\n",
    "  print(\"남자입니다\")\n",
    "elif (isGen == \"2\" or isGen == \"4\"):\n",
    "  print(\"여자입니다\")\n"
   ]
  },
  {
   "cell_type": "code",
   "execution_count": 117,
   "metadata": {},
   "outputs": [
    {
     "ename": "SyntaxError",
     "evalue": "cannot assign to expression here. Maybe you meant '==' instead of '='? (671906042.py, line 1)",
     "output_type": "error",
     "traceback": [
      "\u001b[1;36m  Cell \u001b[1;32mIn[117], line 1\u001b[1;36m\u001b[0m\n\u001b[1;33m    if (int(isGen) % 2 = 1):\u001b[0m\n\u001b[1;37m        ^\u001b[0m\n\u001b[1;31mSyntaxError\u001b[0m\u001b[1;31m:\u001b[0m cannot assign to expression here. Maybe you meant '==' instead of '='?\n"
     ]
    }
   ],
   "source": [
    "if (int(isGen) % 2 = 1):\n",
    "  print(\"남자입니다\")\n",
    "elif (isGen == \"2\" or isGen == \"4\"):\n",
    "  print(\"여자입니다\")"
   ]
  },
  {
   "cell_type": "code",
   "execution_count": 41,
   "metadata": {},
   "outputs": [
    {
     "name": "stdout",
     "output_type": "stream",
     "text": [
      "L i f e   i s   t o o   s h o r t ,   Y o u   n e e d   P y t h o n "
     ]
    }
   ],
   "source": [
    "for s in a:\n",
    "  print(s, end=\" \")"
   ]
  },
  {
   "cell_type": "code",
   "execution_count": 49,
   "metadata": {},
   "outputs": [
    {
     "name": "stdout",
     "output_type": "stream",
     "text": [
      "♥♥♥♥♥♥\n"
     ]
    }
   ],
   "source": [
    "# 숫자 입력받기 : \"54321\"\n",
    "\n",
    "# 글자의 개수만큼 반복\n",
    "# 읽어온 숫자만큼 하트 ♥ 출력\n",
    "\n",
    "# ♥♥♥♥♥\n",
    "# ♥♥♥♥\n",
    "# ♥♥♥\n",
    "# ♥♥\n",
    "# ♥\n",
    "\n",
    "str3 = input(\"숫자 입력\")\n",
    "\n",
    "for i in range(len(str3)):\n",
    "  for s in range(int(str3[i])):\n",
    "    print(\"♥\", end=\"\")\n",
    "  print()"
   ]
  },
  {
   "cell_type": "code",
   "execution_count": 48,
   "metadata": {},
   "outputs": [
    {
     "data": {
      "text/plain": [
       "2"
      ]
     },
     "execution_count": 48,
     "metadata": {},
     "output_type": "execute_result"
    }
   ],
   "source": [
    "# 문자열 함수\n",
    "# count(): 문자 개수 세기\n",
    "str1 = \"hobby\"\n",
    "\n",
    "# str1 에 b라는 문자열 몇 개?\n",
    "str1.count('b')"
   ]
  },
  {
   "cell_type": "code",
   "execution_count": 51,
   "metadata": {},
   "outputs": [
    {
     "name": "stdout",
     "output_type": "stream",
     "text": [
      "14\n",
      "-1\n"
     ]
    }
   ],
   "source": [
    "# find(): 문자 위치 찾기 (못찾는 경우 -1)\n",
    "str1 = \"Python is the best choice\"\n",
    "\n",
    "# str1 문자열에 b 문자열 위치 찾기\n",
    "print(str1.find(\"b\"))\n",
    "print(str1.find(\"k\"))"
   ]
  },
  {
   "cell_type": "code",
   "execution_count": 53,
   "metadata": {},
   "outputs": [
    {
     "name": "stdout",
     "output_type": "stream",
     "text": [
      "14\n"
     ]
    }
   ],
   "source": [
    "# index() : 문자 위치 찾기 (못찾는 경우 ValueError: substring not found)\n",
    "print(str1.index(\"b\"))\n",
    "# print(str1.index(\"k\"))"
   ]
  },
  {
   "cell_type": "code",
   "execution_count": 54,
   "metadata": {},
   "outputs": [
    {
     "name": "stdout",
     "output_type": "stream",
     "text": [
      "a,b,c,d,e\n"
     ]
    }
   ],
   "source": [
    "# join() : 문자열 삽입(\"이걸로 결합해줘\")\n",
    "print(\",\".join(\"abcde\"))"
   ]
  },
  {
   "cell_type": "code",
   "execution_count": 56,
   "metadata": {},
   "outputs": [
    {
     "name": "stdout",
     "output_type": "stream",
     "text": [
      "HI\n",
      "my\n"
     ]
    }
   ],
   "source": [
    "# upper() : 소문자 => 대문자\n",
    "# lower() : 대문자 => 소문자\n",
    "\n",
    "a = \"hi\"\n",
    "print(a.upper())\n",
    "a = \"MY\"\n",
    "print(a.lower())"
   ]
  },
  {
   "cell_type": "code",
   "execution_count": 62,
   "metadata": {},
   "outputs": [
    {
     "name": "stdout",
     "output_type": "stream",
     "text": [
      "           hi             \n",
      "hi             \n",
      "           hi\n",
      "hi\n"
     ]
    }
   ],
   "source": [
    "# 공백 제거\n",
    "# lstrip(좌), rstrip(우), strip(양쪽)\n",
    "\n",
    "a = \"           hi             \"\n",
    "print(a)\n",
    "print(a.lstrip())\n",
    "print(a.rstrip())\n",
    "print(a.strip())"
   ]
  },
  {
   "cell_type": "code",
   "execution_count": 65,
   "metadata": {},
   "outputs": [
    {
     "data": {
      "text/plain": [
       "'Your leg is too short'"
      ]
     },
     "execution_count": 65,
     "metadata": {},
     "output_type": "execute_result"
    }
   ],
   "source": [
    "# replace() : 문자열 대체\n",
    "a = \"Life is too short\"\n",
    "a.replace(\"Life\", \"Your leg\")"
   ]
  },
  {
   "cell_type": "code",
   "execution_count": 68,
   "metadata": {},
   "outputs": [
    {
     "name": "stdout",
     "output_type": "stream",
     "text": [
      "['Life', 'is', 'too', 'short']\n"
     ]
    },
    {
     "data": {
      "text/plain": [
       "['a', 'b', 'c', 'd']"
      ]
     },
     "execution_count": 68,
     "metadata": {},
     "output_type": "execute_result"
    }
   ],
   "source": [
    "# split(): 문자열 나누기\n",
    "print(a.split()) # 공백 기준으로 문자열 분리\n",
    "\n",
    "b = \"a:b:c:d\"\n",
    "b.split(\":\")"
   ]
  },
  {
   "cell_type": "code",
   "execution_count": 71,
   "metadata": {},
   "outputs": [
    {
     "name": "stdout",
     "output_type": "stream",
     "text": [
      "True\n",
      "False\n",
      "True\n"
     ]
    }
   ],
   "source": [
    "# 문자열 구성 파악\n",
    "# isalpha(), islower(), isupper(),...\n",
    "\n",
    "print(\"12345\".isdigit()) # 숫자인가? True\n",
    "print(\"12aph\".isalpha()) # 문자인가? False\n",
    "print(\"12alp\".isalnum()) # 문자숫자인가? True"
   ]
  },
  {
   "cell_type": "code",
   "execution_count": 83,
   "metadata": {},
   "outputs": [
    {
     "name": "stdout",
     "output_type": "stream",
     "text": [
      "kENNry"
     ]
    }
   ],
   "source": [
    "name = \"KennRY\"\n",
    "\n",
    "# 대문자는 소문자, 소문자는 대문자로 변경 후 출력\n",
    "\n",
    "for s in name:\n",
    "  if s.islower():\n",
    "    print(s.upper(), end=\"\")\n",
    "  else:\n",
    "    print(s.lower(), end=\"\")"
   ]
  },
  {
   "cell_type": "code",
   "execution_count": 84,
   "metadata": {},
   "outputs": [
    {
     "data": {
      "text/plain": [
       "'kENNry'"
      ]
     },
     "execution_count": 84,
     "metadata": {},
     "output_type": "execute_result"
    }
   ],
   "source": [
    "# 대문자는 소문자, 소문자는 대문자로 변경 후 출력 함수 : swapcase()\n",
    "name.swapcase()"
   ]
  },
  {
   "cell_type": "code",
   "execution_count": 92,
   "metadata": {},
   "outputs": [
    {
     "name": "stdout",
     "output_type": "stream",
     "text": [
      "10년 후 날짜는 2034년 12월 23일\n"
     ]
    }
   ],
   "source": [
    "# 날짜 입력받은 후 10년후 날짜 출력\n",
    "# 2024/12/23 => 2034년 12월 23일\n",
    "\n",
    "getDate = input(\"날짜 입력(yyyy/mm/dd)\")\n",
    "getDate = getDate.split(\"/\")\n",
    "print(f\"10년 후 날짜는 {int(getDate[0]) + 10}년 {getDate[1]}월 {getDate[2]}일\")"
   ]
  },
  {
   "cell_type": "code",
   "execution_count": 1,
   "metadata": {},
   "outputs": [
    {
     "name": "stdout",
     "output_type": "stream",
     "text": [
      "naver.com\n",
      "naver\n",
      "생성된 비번 : nav51!\n"
     ]
    }
   ],
   "source": [
    "str1 = \"https://naver.com\"\n",
    "\n",
    "# 규칙1: https:// 제외\n",
    "# 규칙2: 처음 만나는 . 이후 부분은 제외\n",
    "# 규칙3: 남은 글자 중 처음 세자리 + 글자 개수, 글자 내 e 개수, ! 로 구성\n",
    "# 생성된 비밀번호 : nav51!\n",
    "\n",
    "strict1 = str1[8:]\n",
    "print(strict1)\n",
    "strict2 = strict1[0:5]\n",
    "print(strict2)\n",
    "e_count = strict2.count(\"e\") \n",
    "password = strict2[:3] + str(len(strict2)) + str(e_count) + '!' # TypeError: can only concatenate str (not \"int\") to str\n",
    "print(f\"생성된 비번 : {password}\")"
   ]
  },
  {
   "cell_type": "code",
   "execution_count": null,
   "metadata": {},
   "outputs": [],
   "source": []
  }
 ],
 "metadata": {
  "kernelspec": {
   "display_name": "Python 3",
   "language": "python",
   "name": "python3"
  },
  "language_info": {
   "codemirror_mode": {
    "name": "ipython",
    "version": 3
   },
   "file_extension": ".py",
   "mimetype": "text/x-python",
   "name": "python",
   "nbconvert_exporter": "python",
   "pygments_lexer": "ipython3",
   "version": "3.13.1"
  }
 },
 "nbformat": 4,
 "nbformat_minor": 2
}
